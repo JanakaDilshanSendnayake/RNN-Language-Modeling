{
 "cells": [
  {
   "cell_type": "code",
   "id": "initial_id",
   "metadata": {
    "collapsed": true,
    "ExecuteTime": {
     "end_time": "2024-10-27T18:48:01.363552Z",
     "start_time": "2024-10-27T18:48:01.270979Z"
    }
   },
   "source": [
    "import numpy as np \n",
    "\n",
    "probabilities = np.array([0.1, 0.2, 0.3, 0.4])\n",
    "\n",
    "np.log(probabilities)"
   ],
   "outputs": [
    {
     "data": {
      "text/plain": [
       "array([-2.30258509, -1.60943791, -1.2039728 , -0.91629073])"
      ]
     },
     "execution_count": 1,
     "metadata": {},
     "output_type": "execute_result"
    }
   ],
   "execution_count": 1
  },
  {
   "metadata": {
    "ExecuteTime": {
     "end_time": "2024-10-27T18:51:04.675738Z",
     "start_time": "2024-10-27T18:51:04.666034Z"
    }
   },
   "cell_type": "code",
   "source": "np.log([0.1])",
   "id": "c879b9a21c512217",
   "outputs": [
    {
     "data": {
      "text/plain": [
       "array([-2.30258509])"
      ]
     },
     "execution_count": 2,
     "metadata": {},
     "output_type": "execute_result"
    }
   ],
   "execution_count": 2
  },
  {
   "metadata": {
    "ExecuteTime": {
     "end_time": "2024-10-27T18:51:14.318287Z",
     "start_time": "2024-10-27T18:51:14.307524Z"
    }
   },
   "cell_type": "code",
   "source": "np.log([0.1, 0.2])",
   "id": "93d9b72c9c70ad2d",
   "outputs": [
    {
     "data": {
      "text/plain": [
       "array([-2.30258509, -1.60943791])"
      ]
     },
     "execution_count": 3,
     "metadata": {},
     "output_type": "execute_result"
    }
   ],
   "execution_count": 3
  },
  {
   "metadata": {
    "ExecuteTime": {
     "end_time": "2024-10-27T18:52:00.309461Z",
     "start_time": "2024-10-27T18:52:00.290780Z"
    }
   },
   "cell_type": "code",
   "source": "np.log([0.1, 0.2, 0.3])",
   "id": "430123c2fbbcea5a",
   "outputs": [
    {
     "data": {
      "text/plain": [
       "array([-2.30258509, -1.60943791, -1.2039728 ])"
      ]
     },
     "execution_count": 4,
     "metadata": {},
     "output_type": "execute_result"
    }
   ],
   "execution_count": 4
  },
  {
   "metadata": {},
   "cell_type": "code",
   "outputs": [],
   "execution_count": null,
   "source": "",
   "id": "739ac9fa188f4e5"
  }
 ],
 "metadata": {
  "kernelspec": {
   "display_name": "Python 3",
   "language": "python",
   "name": "python3"
  },
  "language_info": {
   "codemirror_mode": {
    "name": "ipython",
    "version": 2
   },
   "file_extension": ".py",
   "mimetype": "text/x-python",
   "name": "python",
   "nbconvert_exporter": "python",
   "pygments_lexer": "ipython2",
   "version": "2.7.6"
  }
 },
 "nbformat": 4,
 "nbformat_minor": 5
}
